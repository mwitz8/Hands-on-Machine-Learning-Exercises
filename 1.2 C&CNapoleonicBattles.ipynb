{
 "cells": [
  {
   "cell_type": "code",
   "execution_count": null,
   "id": "collective-monitoring",
   "metadata": {},
   "outputs": [],
   "source": [
    "#The aim of this project is to predict the percent chance of the outcome of a battle in Commands & Colors: Napoleonics.\n",
    "#I've decided to use the following variables (columns) for each side of the conflict:\n",
    "#nationality(hot encoded), # of each unit type, # of field works on side, # of castles on side, # of victory points on side, # of victory points to win, # of command cards, # of tactician cards, whether move first\n",
    "#The predictor is the outcome"
   ]
  }
 ],
 "metadata": {
  "kernelspec": {
   "display_name": "Python 3",
   "language": "python",
   "name": "python3"
  },
  "language_info": {
   "codemirror_mode": {
    "name": "ipython",
    "version": 3
   },
   "file_extension": ".py",
   "mimetype": "text/x-python",
   "name": "python",
   "nbconvert_exporter": "python",
   "pygments_lexer": "ipython3",
   "version": "3.6.9"
  }
 },
 "nbformat": 4,
 "nbformat_minor": 5
}
